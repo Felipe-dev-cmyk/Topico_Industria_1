{
  "cells": [
    {
      "cell_type": "markdown",
      "id": "bbeb0c1e",
      "metadata": {
        "id": "bbeb0c1e"
      },
      "source": [
        "# Práctica 4\n",
        "\n",
        "**Nombre:** Gutierrez Ramirez Felipe de Jesus\n",
        "\n",
        "**e-mail:** felipe.gutierrez5025@alumnos.udg.mx"
      ]
    },
    {
      "cell_type": "markdown",
      "id": "a31326d0",
      "metadata": {
        "id": "a31326d0"
      },
      "source": [
        "## MODULES"
      ]
    },
    {
      "cell_type": "code",
      "execution_count": 1,
      "id": "9c33a472",
      "metadata": {
        "id": "9c33a472"
      },
      "outputs": [],
      "source": [
        "import math\n",
        "import numpy as np\n",
        "import pandas as pd\n",
        "from scipy.stats import wrapcauchy\n",
        "from scipy.stats import levy_stable\n",
        "\n",
        "import plotly.graph_objects as go\n",
        "import panel as pn\n",
        "import panel.widgets as pnw\n",
        "pn.extension('plotly')"
      ]
    },
    {
      "cell_type": "markdown",
      "id": "eea985c3",
      "metadata": {
        "id": "eea985c3"
      },
      "source": [
        "## CLASSES"
      ]
    },
    {
      "cell_type": "code",
      "execution_count": 2,
      "id": "e2ee1ad4",
      "metadata": {
        "id": "e2ee1ad4"
      },
      "outputs": [],
      "source": [
        "################# http://www.pygame.org/wiki/2DVectorClass ##################\n",
        "class Vec2d(object):\n",
        "    \"\"\"2d vector class, supports vector and scalar operators,\n",
        "       and also provides a bunch of high level functions\n",
        "       \"\"\"\n",
        "    __slots__ = ['x', 'y']\n",
        "\n",
        "    def __init__(self, x_or_pair, y = None):\n",
        "        if y == None:\n",
        "            self.x = x_or_pair[0]\n",
        "            self.y = x_or_pair[1]\n",
        "        else:\n",
        "            self.x = x_or_pair\n",
        "            self.y = y\n",
        "\n",
        "    # Addition\n",
        "    def __add__(self, other):\n",
        "        if isinstance(other, Vec2d):\n",
        "            return Vec2d(self.x + other.x, self.y + other.y)\n",
        "        elif hasattr(other, \"__getitem__\"):\n",
        "            return Vec2d(self.x + other[0], self.y + other[1])\n",
        "        else:\n",
        "            return Vec2d(self.x + other, self.y + other)\n",
        "\n",
        "    # Subtraction\n",
        "    def __sub__(self, other):\n",
        "        if isinstance(other, Vec2d):\n",
        "            return Vec2d(self.x - other.x, self.y - other.y)\n",
        "        elif (hasattr(other, \"__getitem__\")):\n",
        "            return Vec2d(self.x - other[0], self.y - other[1])\n",
        "        else:\n",
        "            return Vec2d(self.x - other, self.y - other)\n",
        "\n",
        "    # Vector length\n",
        "    def get_length(self):\n",
        "        return math.sqrt(self.x**2 + self.y**2)\n",
        "\n",
        "    # rotate vector\n",
        "    def rotated(self, angle):\n",
        "        cos = math.cos(angle)\n",
        "        sin = math.sin(angle)\n",
        "        x = self.x*cos - self.y*sin\n",
        "        y = self.x*sin + self.y*cos\n",
        "        return Vec2d(x, y)"
      ]
    },
    {
      "cell_type": "markdown",
      "id": "9f102d39",
      "metadata": {
        "id": "9f102d39"
      },
      "source": [
        "## FUNCTIONS"
      ]
    },
    {
      "cell_type": "code",
      "execution_count": 5,
      "id": "7f6efed4",
      "metadata": {},
      "outputs": [],
      "source": [
        "######################################################################\n",
        "# Brownian Motion Trajectory\n",
        "######################################################################\n",
        "\n",
        "def bm_2d(n_steps=1000, speed=5, s_pos=[0,0]):\n",
        "  \"\"\"\n",
        "  Arguments:\n",
        "    n_steps:\n",
        "    speed:\n",
        "    s_pos:\n",
        "  Returns:\n",
        "    BM_2d_df:\n",
        "  \"\"\"\n",
        "\n",
        "  # Init velocity vector\n",
        "  velocity = Vec2d(speed, 0)\n",
        "\n",
        "  BM_2d_df = pd.DataFrame(columns = ['x_pos', 'y_pos'])\n",
        "  temp_df = pd.DataFrame([{'x_pos': s_pos[0], 'y_pos': s_pos[1]}])\n",
        "\n",
        "  BM_2d_df = pd.concat([BM_2d_df, temp_df], ignore_index=True)\n",
        "\n",
        "  for i in range(n_steps-1):\n",
        "    turn_angle = np.random.uniform(low=-np.pi, high=np.pi)\n",
        "    velocity = velocity.rotated(turn_angle)\n",
        "\n",
        "    temp_df = pd.DataFrame([{'x_pos': BM_2d_df.x_pos[i]+velocity.x, 'y_pos': BM_2d_df.y_pos[i]+velocity.y}])\n",
        "\n",
        "    BM_2d_df = pd.concat([BM_2d_df, temp_df], ignore_index=True)\n",
        "\n",
        "  return BM_2d_df"
      ]
    },
    {
      "cell_type": "code",
      "execution_count": 45,
      "id": "2ea24c9f",
      "metadata": {},
      "outputs": [],
      "source": [
        "######################################################################\n",
        "# Correlated Random Walk Trajectory\n",
        "######################################################################\n",
        "\n",
        "def crw(CRW_exponent=0.4, n_steps=1000, speed=5, s_pos=[0,0]):\n",
        "  \"\"\"\n",
        "  Arguments:\n",
        "    CRW_exponent:\n",
        "    n_steps:\n",
        "    speed:\n",
        "    s_pos:\n",
        "  Returns:\n",
        "    CRW_df:\n",
        "  \"\"\"\n",
        "  velocity = Vec2d(speed,0)\n",
        "  pos = Vec2d(s_pos)\n",
        "  cauchy_samples = wrapcauchy.rvs(CRW_exponent, size=n_steps, loc=0)\n",
        "\n",
        "  cauchy = pd.DataFrame(columns=['x_pos', 'y_pos'])\n",
        "  temp_df = pd.DataFrame([{'x_pos': s_pos[0], 'y_pos': s_pos[1]}])\n",
        "  cauchy = pd.concat([cauchy,temp_df], ignore_index=True)\n",
        "\n",
        "  for i in range(n_steps-1):\n",
        "    # Elegir el angulo de giro\n",
        "    velocity = velocity.rotated(cauchy_samples[i])\n",
        "    pos += velocity\n",
        "    temp_df = pd.DataFrame([{'x_pos': pos.x, 'y_pos': pos.y}])\n",
        "    cauchy = pd.concat([cauchy,temp_df], ignore_index=True)\n",
        "\n",
        "  return cauchy"
      ]
    },
    {
      "cell_type": "code",
      "execution_count": 4,
      "id": "800b84e2",
      "metadata": {},
      "outputs": [],
      "source": [
        "######################################################################\n",
        "# Levy flight Trajectory\n",
        "######################################################################\n",
        "def levy(alpha=0.9, beta=1.0, loc=0,CRW_exponent=0.5, n_steps=1000, speed=5, s_pos=[0,0]):\n",
        "  \"\"\"\n",
        "  Arguments:\n",
        "  alpha:\n",
        "  beta:\n",
        "  loc:\n",
        "  CRW_exponent:\n",
        "  n_steps:\n",
        "  speed:\n",
        "  s_pos:\n",
        "  Returns:\n",
        "  Levy_df:\n",
        "  \"\"\"\n",
        "  velocity = Vec2d(speed,0)\n",
        "  levy = [Vec2d(s_pos[0], s_pos[1])]\n",
        "  angles = wrapcauchy.rvs(c=CRW_exponent, size=n_steps)\n",
        "  step_lengths = levy_stable.rvs(alpha, beta, loc, scale=speed,size=n_steps)\n",
        "  for i in range(n_steps):\n",
        "    velocity = velocity.rotated(angles[i])\n",
        "    steps = Vec2d(velocity.x * step_lengths[i], velocity.y * step_lengths[i])\n",
        "    new_pos = levy[-1] + steps\n",
        "    levy.append(new_pos)\n",
        "  \n",
        "  levy_df = pd.DataFrame([(step.x, step.y) for step in levy], columns=['x_pos', 'y_pos'])\n",
        "  return levy_df"
      ]
    },
    {
      "cell_type": "code",
      "execution_count": 5,
      "id": "02014f44",
      "metadata": {
        "id": "02014f44"
      },
      "outputs": [],
      "source": [
        "# Define your function to compute path length for given trajectory\n",
        "\n",
        "## start - Add your code here\n",
        "def path_length(traj):\n",
        "    lengths = pd.DataFrame(columns=['distance'])\n",
        "    temp_df = pd.DataFrame([{'distance': 0}])\n",
        "    lengths =pd.concat([lengths,temp_df], ignore_index=True)\n",
        "    for i in range(1, len(traj)):\n",
        "        x0, y0 = traj.iloc[i - 1]['x_pos'], traj.iloc[i - 1]['y_pos']\n",
        "        x1, y1 = traj.iloc[i]['x_pos'], traj.iloc[i]['y_pos']\n",
        "        length = lengths.iloc[-1]['distance'] + np.sqrt((x1 - x0)**2 + (y1 - y0)**2)\n",
        "        temp_df = pd.DataFrame([{'distance': length}])\n",
        "        lengths =pd.concat([lengths,temp_df], ignore_index=True)\n",
        "    return lengths\n",
        "\n",
        "## end - Add your code here"
      ]
    },
    {
      "cell_type": "code",
      "execution_count": 80,
      "id": "c3b6784f",
      "metadata": {
        "id": "c3b6784f"
      },
      "outputs": [],
      "source": [
        "# Define your function to compute Mean Squared Displacement for given trajectory\n",
        "\n",
        "## start - Add your code here\n",
        "def msd(traj):\n",
        "    N = len(traj)\n",
        "    msd_list = []\n",
        "    for i in range(1, N):\n",
        "        squared_displacements = (traj.iloc[i:] - traj.iloc[:-i].values) ** 2\n",
        "        msd = squared_displacements.sum(axis=1).mean()\n",
        "        msd_list.append(msd)\n",
        "    msd = pd.DataFrame({'MSD': msd_list})\n",
        "    return msd\n",
        "\n",
        "## end - Add your code here"
      ]
    }
  ],
  "metadata": {
    "colab": {
      "provenance": []
    },
    "kernelspec": {
      "display_name": "Python 3",
      "language": "python",
      "name": "python3"
    },
    "language_info": {
      "codemirror_mode": {
        "name": "ipython",
        "version": 3
      },
      "file_extension": ".py",
      "mimetype": "text/x-python",
      "name": "python",
      "nbconvert_exporter": "python",
      "pygments_lexer": "ipython3",
      "version": "3.11.8"
    }
  },
  "nbformat": 4,
  "nbformat_minor": 5
}
